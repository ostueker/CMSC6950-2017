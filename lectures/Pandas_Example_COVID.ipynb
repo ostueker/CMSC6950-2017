{
 "cells": [
  {
   "cell_type": "markdown",
   "metadata": {},
   "source": [
    "# Working with Pandas using COVID19 Data"
   ]
  },
  {
   "cell_type": "code",
   "execution_count": 1,
   "metadata": {
    "executionInfo": {
     "elapsed": 714,
     "status": "ok",
     "timestamp": 1641478832789,
     "user": {
      "displayName": "Oliver Stueker",
      "photoUrl": "https://lh3.googleusercontent.com/a-/AOh14GgE8voRBymiAhtGEgHMV7uaIUYPUPV4yWo9i9EM=s64",
      "userId": "14746141427113388884"
     },
     "user_tz": 210
    },
    "id": "1B-6evMVdV8K"
   },
   "outputs": [],
   "source": [
    "import datetime\n",
    "import pandas as pd\n",
    "from matplotlib import pyplot as plt"
   ]
  },
  {
   "cell_type": "markdown",
   "metadata": {},
   "source": [
    "## Get some data to work with and prepare the data frame"
   ]
  },
  {
   "cell_type": "code",
   "execution_count": 2,
   "metadata": {
    "executionInfo": {
     "elapsed": 714,
     "status": "ok",
     "timestamp": 1641478832789,
     "user": {
      "displayName": "Oliver Stueker",
      "photoUrl": "https://lh3.googleusercontent.com/a-/AOh14GgE8voRBymiAhtGEgHMV7uaIUYPUPV4yWo9i9EM=s64",
      "userId": "14746141427113388884"
     },
     "user_tz": 210
    },
    "id": "1B-6evMVdV8K"
   },
   "outputs": [],
   "source": [
    "# Download data for Canada\n",
    "\n",
    "# Data source: Government of Canada -  Coronavirus disease (COVID-19): Outbreak update\n",
    "# https://www.canada.ca/en/public-health/services/diseases/2019-novel-coronavirus-infection.html?topic=tilelink#a1\n",
    "# CSV link next to the map: https://health-infobase.canada.ca/src/data/covidLive/covid19.csv\n",
    "df_can = pd.read_csv('https://health-infobase.canada.ca/src/data/covidLive/covid19.csv')"
   ]
  },
  {
   "cell_type": "code",
   "execution_count": 3,
   "metadata": {
    "executionInfo": {
     "elapsed": 714,
     "status": "ok",
     "timestamp": 1641478832789,
     "user": {
      "displayName": "Oliver Stueker",
      "photoUrl": "https://lh3.googleusercontent.com/a-/AOh14GgE8voRBymiAhtGEgHMV7uaIUYPUPV4yWo9i9EM=s64",
      "userId": "14746141427113388884"
     },
     "user_tz": 210
    },
    "id": "1B-6evMVdV8K"
   },
   "outputs": [],
   "source": [
    "# Index by Date\n",
    "## Convert date-strings into date objects\n",
    "df_can['date'] = pd.to_datetime(df_can['date'], dayfirst=True)\n",
    "## set date as index column\n",
    "df_can = df_can.set_index(\"date\")"
   ]
  },
  {
   "cell_type": "code",
   "execution_count": 4,
   "metadata": {
    "colab": {
     "base_uri": "https://localhost:8080/",
     "height": 237
    },
    "executionInfo": {
     "elapsed": 181,
     "status": "ok",
     "timestamp": 1641478911004,
     "user": {
      "displayName": "Oliver Stueker",
      "photoUrl": "https://lh3.googleusercontent.com/a-/AOh14GgE8voRBymiAhtGEgHMV7uaIUYPUPV4yWo9i9EM=s64",
      "userId": "14746141427113388884"
     },
     "user_tz": 210
    },
    "id": "jnPCjinHAPsU",
    "outputId": "1b98304d-ee3d-4555-f092-d8edb2574f61",
    "tags": []
   },
   "outputs": [],
   "source": [
    "# Make a new frame with five data-columns\n",
    "df_incidence = df_can[ ['prname', 'pruid', 'numtoday', 'ratetotal_last7'] ]"
   ]
  },
  {
   "cell_type": "markdown",
   "metadata": {},
   "source": [
    "## Filter the data in differnt ways"
   ]
  },
  {
   "cell_type": "code",
   "execution_count": 5,
   "metadata": {
    "colab": {
     "base_uri": "https://localhost:8080/",
     "height": 237
    },
    "executionInfo": {
     "elapsed": 181,
     "status": "ok",
     "timestamp": 1641478911004,
     "user": {
      "displayName": "Oliver Stueker",
      "photoUrl": "https://lh3.googleusercontent.com/a-/AOh14GgE8voRBymiAhtGEgHMV7uaIUYPUPV4yWo9i9EM=s64",
      "userId": "14746141427113388884"
     },
     "user_tz": 210
    },
    "id": "jnPCjinHAPsU",
    "outputId": "1b98304d-ee3d-4555-f092-d8edb2574f61",
    "tags": []
   },
   "outputs": [
    {
     "data": {
      "text/html": [
       "<div>\n",
       "<style scoped>\n",
       "    .dataframe tbody tr th:only-of-type {\n",
       "        vertical-align: middle;\n",
       "    }\n",
       "\n",
       "    .dataframe tbody tr th {\n",
       "        vertical-align: top;\n",
       "    }\n",
       "\n",
       "    .dataframe thead th {\n",
       "        text-align: right;\n",
       "    }\n",
       "</style>\n",
       "<table border=\"1\" class=\"dataframe\">\n",
       "  <thead>\n",
       "    <tr style=\"text-align: right;\">\n",
       "      <th></th>\n",
       "      <th>prname</th>\n",
       "      <th>pruid</th>\n",
       "      <th>numtoday</th>\n",
       "      <th>ratetotal_last7</th>\n",
       "    </tr>\n",
       "    <tr>\n",
       "      <th>date</th>\n",
       "      <th></th>\n",
       "      <th></th>\n",
       "      <th></th>\n",
       "      <th></th>\n",
       "    </tr>\n",
       "  </thead>\n",
       "  <tbody>\n",
       "    <tr>\n",
       "      <th>2022-04-28</th>\n",
       "      <td>Newfoundland and Labrador</td>\n",
       "      <td>10</td>\n",
       "      <td>126</td>\n",
       "      <td>153.11</td>\n",
       "    </tr>\n",
       "    <tr>\n",
       "      <th>2022-04-29</th>\n",
       "      <td>Newfoundland and Labrador</td>\n",
       "      <td>10</td>\n",
       "      <td>102</td>\n",
       "      <td>143.50</td>\n",
       "    </tr>\n",
       "    <tr>\n",
       "      <th>2022-04-30</th>\n",
       "      <td>Newfoundland and Labrador</td>\n",
       "      <td>10</td>\n",
       "      <td>103</td>\n",
       "      <td>136.97</td>\n",
       "    </tr>\n",
       "    <tr>\n",
       "      <th>2022-05-01</th>\n",
       "      <td>Newfoundland and Labrador</td>\n",
       "      <td>10</td>\n",
       "      <td>29</td>\n",
       "      <td>125.64</td>\n",
       "    </tr>\n",
       "    <tr>\n",
       "      <th>2022-05-02</th>\n",
       "      <td>Newfoundland and Labrador</td>\n",
       "      <td>10</td>\n",
       "      <td>65</td>\n",
       "      <td>121.41</td>\n",
       "    </tr>\n",
       "  </tbody>\n",
       "</table>\n",
       "</div>"
      ],
      "text/plain": [
       "                               prname  pruid  numtoday  ratetotal_last7\n",
       "date                                                                   \n",
       "2022-04-28  Newfoundland and Labrador     10       126           153.11\n",
       "2022-04-29  Newfoundland and Labrador     10       102           143.50\n",
       "2022-04-30  Newfoundland and Labrador     10       103           136.97\n",
       "2022-05-01  Newfoundland and Labrador     10        29           125.64\n",
       "2022-05-02  Newfoundland and Labrador     10        65           121.41"
      ]
     },
     "execution_count": 5,
     "metadata": {},
     "output_type": "execute_result"
    }
   ],
   "source": [
    "# Filter by numeric field\n",
    "df_incidence[ df_incidence['pruid'] == 10 ].tail(5)"
   ]
  },
  {
   "cell_type": "code",
   "execution_count": 6,
   "metadata": {
    "colab": {
     "base_uri": "https://localhost:8080/",
     "height": 237
    },
    "executionInfo": {
     "elapsed": 181,
     "status": "ok",
     "timestamp": 1641478911004,
     "user": {
      "displayName": "Oliver Stueker",
      "photoUrl": "https://lh3.googleusercontent.com/a-/AOh14GgE8voRBymiAhtGEgHMV7uaIUYPUPV4yWo9i9EM=s64",
      "userId": "14746141427113388884"
     },
     "user_tz": 210
    },
    "id": "jnPCjinHAPsU",
    "outputId": "1b98304d-ee3d-4555-f092-d8edb2574f61",
    "tags": []
   },
   "outputs": [
    {
     "data": {
      "text/html": [
       "<div>\n",
       "<style scoped>\n",
       "    .dataframe tbody tr th:only-of-type {\n",
       "        vertical-align: middle;\n",
       "    }\n",
       "\n",
       "    .dataframe tbody tr th {\n",
       "        vertical-align: top;\n",
       "    }\n",
       "\n",
       "    .dataframe thead th {\n",
       "        text-align: right;\n",
       "    }\n",
       "</style>\n",
       "<table border=\"1\" class=\"dataframe\">\n",
       "  <thead>\n",
       "    <tr style=\"text-align: right;\">\n",
       "      <th></th>\n",
       "      <th>prname</th>\n",
       "      <th>pruid</th>\n",
       "      <th>numtoday</th>\n",
       "      <th>ratetotal_last7</th>\n",
       "    </tr>\n",
       "    <tr>\n",
       "      <th>date</th>\n",
       "      <th></th>\n",
       "      <th></th>\n",
       "      <th></th>\n",
       "      <th></th>\n",
       "    </tr>\n",
       "  </thead>\n",
       "  <tbody>\n",
       "    <tr>\n",
       "      <th>2022-04-28</th>\n",
       "      <td>Ontario</td>\n",
       "      <td>35</td>\n",
       "      <td>3560</td>\n",
       "      <td>155.17</td>\n",
       "    </tr>\n",
       "    <tr>\n",
       "      <th>2022-04-29</th>\n",
       "      <td>Ontario</td>\n",
       "      <td>35</td>\n",
       "      <td>2760</td>\n",
       "      <td>142.30</td>\n",
       "    </tr>\n",
       "    <tr>\n",
       "      <th>2022-04-30</th>\n",
       "      <td>Ontario</td>\n",
       "      <td>35</td>\n",
       "      <td>2799</td>\n",
       "      <td>135.41</td>\n",
       "    </tr>\n",
       "    <tr>\n",
       "      <th>2022-05-01</th>\n",
       "      <td>Ontario</td>\n",
       "      <td>35</td>\n",
       "      <td>2243</td>\n",
       "      <td>122.90</td>\n",
       "    </tr>\n",
       "    <tr>\n",
       "      <th>2022-05-02</th>\n",
       "      <td>Ontario</td>\n",
       "      <td>35</td>\n",
       "      <td>1275</td>\n",
       "      <td>117.82</td>\n",
       "    </tr>\n",
       "  </tbody>\n",
       "</table>\n",
       "</div>"
      ],
      "text/plain": [
       "             prname  pruid  numtoday  ratetotal_last7\n",
       "date                                                 \n",
       "2022-04-28  Ontario     35      3560           155.17\n",
       "2022-04-29  Ontario     35      2760           142.30\n",
       "2022-04-30  Ontario     35      2799           135.41\n",
       "2022-05-01  Ontario     35      2243           122.90\n",
       "2022-05-02  Ontario     35      1275           117.82"
      ]
     },
     "execution_count": 6,
     "metadata": {},
     "output_type": "execute_result"
    }
   ],
   "source": [
    "# Filter by string field\n",
    "df_incidence[ df_incidence['prname'] == 'Ontario' ].tail(5)"
   ]
  },
  {
   "cell_type": "code",
   "execution_count": 7,
   "metadata": {
    "colab": {
     "base_uri": "https://localhost:8080/",
     "height": 237
    },
    "executionInfo": {
     "elapsed": 181,
     "status": "ok",
     "timestamp": 1641478911004,
     "user": {
      "displayName": "Oliver Stueker",
      "photoUrl": "https://lh3.googleusercontent.com/a-/AOh14GgE8voRBymiAhtGEgHMV7uaIUYPUPV4yWo9i9EM=s64",
      "userId": "14746141427113388884"
     },
     "user_tz": 210
    },
    "id": "jnPCjinHAPsU",
    "outputId": "1b98304d-ee3d-4555-f092-d8edb2574f61",
    "tags": []
   },
   "outputs": [
    {
     "data": {
      "text/html": [
       "<div>\n",
       "<style scoped>\n",
       "    .dataframe tbody tr th:only-of-type {\n",
       "        vertical-align: middle;\n",
       "    }\n",
       "\n",
       "    .dataframe tbody tr th {\n",
       "        vertical-align: top;\n",
       "    }\n",
       "\n",
       "    .dataframe thead th {\n",
       "        text-align: right;\n",
       "    }\n",
       "</style>\n",
       "<table border=\"1\" class=\"dataframe\">\n",
       "  <thead>\n",
       "    <tr style=\"text-align: right;\">\n",
       "      <th></th>\n",
       "      <th>prname</th>\n",
       "      <th>pruid</th>\n",
       "      <th>numtoday</th>\n",
       "      <th>ratetotal_last7</th>\n",
       "    </tr>\n",
       "    <tr>\n",
       "      <th>date</th>\n",
       "      <th></th>\n",
       "      <th></th>\n",
       "      <th></th>\n",
       "      <th></th>\n",
       "    </tr>\n",
       "  </thead>\n",
       "  <tbody>\n",
       "    <tr>\n",
       "      <th>2022-04-30</th>\n",
       "      <td>Ontario</td>\n",
       "      <td>35</td>\n",
       "      <td>2799</td>\n",
       "      <td>135.41</td>\n",
       "    </tr>\n",
       "    <tr>\n",
       "      <th>2022-05-01</th>\n",
       "      <td>Alberta</td>\n",
       "      <td>48</td>\n",
       "      <td>0</td>\n",
       "      <td>147.85</td>\n",
       "    </tr>\n",
       "    <tr>\n",
       "      <th>2022-05-01</th>\n",
       "      <td>Ontario</td>\n",
       "      <td>35</td>\n",
       "      <td>2243</td>\n",
       "      <td>122.90</td>\n",
       "    </tr>\n",
       "    <tr>\n",
       "      <th>2022-05-02</th>\n",
       "      <td>Alberta</td>\n",
       "      <td>48</td>\n",
       "      <td>0</td>\n",
       "      <td>147.85</td>\n",
       "    </tr>\n",
       "    <tr>\n",
       "      <th>2022-05-02</th>\n",
       "      <td>Ontario</td>\n",
       "      <td>35</td>\n",
       "      <td>1275</td>\n",
       "      <td>117.82</td>\n",
       "    </tr>\n",
       "  </tbody>\n",
       "</table>\n",
       "</div>"
      ],
      "text/plain": [
       "             prname  pruid  numtoday  ratetotal_last7\n",
       "date                                                 \n",
       "2022-04-30  Ontario     35      2799           135.41\n",
       "2022-05-01  Alberta     48         0           147.85\n",
       "2022-05-01  Ontario     35      2243           122.90\n",
       "2022-05-02  Alberta     48         0           147.85\n",
       "2022-05-02  Ontario     35      1275           117.82"
      ]
     },
     "execution_count": 7,
     "metadata": {},
     "output_type": "execute_result"
    }
   ],
   "source": [
    "# Filter by multiple conditions\n",
    "df_incidence[ (df_incidence['prname'] == 'Ontario')  |  (df_incidence['prname'] == 'Alberta') ].tail(5)"
   ]
  },
  {
   "cell_type": "code",
   "execution_count": 15,
   "metadata": {
    "colab": {
     "base_uri": "https://localhost:8080/",
     "height": 237
    },
    "executionInfo": {
     "elapsed": 181,
     "status": "ok",
     "timestamp": 1641478911004,
     "user": {
      "displayName": "Oliver Stueker",
      "photoUrl": "https://lh3.googleusercontent.com/a-/AOh14GgE8voRBymiAhtGEgHMV7uaIUYPUPV4yWo9i9EM=s64",
      "userId": "14746141427113388884"
     },
     "user_tz": 210
    },
    "id": "jnPCjinHAPsU",
    "outputId": "1b98304d-ee3d-4555-f092-d8edb2574f61",
    "tags": []
   },
   "outputs": [
    {
     "data": {
      "text/html": [
       "<div>\n",
       "<style scoped>\n",
       "    .dataframe tbody tr th:only-of-type {\n",
       "        vertical-align: middle;\n",
       "    }\n",
       "\n",
       "    .dataframe tbody tr th {\n",
       "        vertical-align: top;\n",
       "    }\n",
       "\n",
       "    .dataframe thead th {\n",
       "        text-align: right;\n",
       "    }\n",
       "</style>\n",
       "<table border=\"1\" class=\"dataframe\">\n",
       "  <thead>\n",
       "    <tr style=\"text-align: right;\">\n",
       "      <th></th>\n",
       "      <th>prname</th>\n",
       "      <th>pruid</th>\n",
       "      <th>numtoday</th>\n",
       "      <th>ratetotal_last7</th>\n",
       "    </tr>\n",
       "    <tr>\n",
       "      <th>date</th>\n",
       "      <th></th>\n",
       "      <th></th>\n",
       "      <th></th>\n",
       "      <th></th>\n",
       "    </tr>\n",
       "  </thead>\n",
       "  <tbody>\n",
       "    <tr>\n",
       "      <th>2022-04-16</th>\n",
       "      <td>Canada</td>\n",
       "      <td>1</td>\n",
       "      <td>11410</td>\n",
       "      <td>174.09</td>\n",
       "    </tr>\n",
       "    <tr>\n",
       "      <th>2022-04-18</th>\n",
       "      <td>Canada</td>\n",
       "      <td>1</td>\n",
       "      <td>18930</td>\n",
       "      <td>173.94</td>\n",
       "    </tr>\n",
       "    <tr>\n",
       "      <th>2022-04-19</th>\n",
       "      <td>Canada</td>\n",
       "      <td>1</td>\n",
       "      <td>11324</td>\n",
       "      <td>168.27</td>\n",
       "    </tr>\n",
       "    <tr>\n",
       "      <th>2022-04-23</th>\n",
       "      <td>Canada</td>\n",
       "      <td>1</td>\n",
       "      <td>12609</td>\n",
       "      <td>168.50</td>\n",
       "    </tr>\n",
       "    <tr>\n",
       "      <th>2022-04-26</th>\n",
       "      <td>Canada</td>\n",
       "      <td>1</td>\n",
       "      <td>11935</td>\n",
       "      <td>152.64</td>\n",
       "    </tr>\n",
       "  </tbody>\n",
       "</table>\n",
       "</div>"
      ],
      "text/plain": [
       "            prname  pruid  numtoday  ratetotal_last7\n",
       "date                                                \n",
       "2022-04-16  Canada      1     11410           174.09\n",
       "2022-04-18  Canada      1     18930           173.94\n",
       "2022-04-19  Canada      1     11324           168.27\n",
       "2022-04-23  Canada      1     12609           168.50\n",
       "2022-04-26  Canada      1     11935           152.64"
      ]
     },
     "execution_count": 15,
     "metadata": {},
     "output_type": "execute_result"
    }
   ],
   "source": [
    "# Filter by comparing numerical value\n",
    "df_incidence[ df_incidence['numtoday'] >= 10_000.0 ].tail(5)"
   ]
  },
  {
   "cell_type": "markdown",
   "metadata": {},
   "source": [
    "## Plot the data from the frame"
   ]
  },
  {
   "cell_type": "code",
   "execution_count": 16,
   "metadata": {
    "colab": {
     "base_uri": "https://localhost:8080/",
     "height": 801
    },
    "executionInfo": {
     "elapsed": 639,
     "status": "ok",
     "timestamp": 1641478833417,
     "user": {
      "displayName": "Oliver Stueker",
      "photoUrl": "https://lh3.googleusercontent.com/a-/AOh14GgE8voRBymiAhtGEgHMV7uaIUYPUPV4yWo9i9EM=s64",
      "userId": "14746141427113388884"
     },
     "user_tz": 210
    },
    "id": "fIlulP09t5Aq",
    "outputId": "b601c5e2-cfe8-4911-d75e-c14565be3434",
    "tags": []
   },
   "outputs": [
    {
     "data": {
      "image/png": "[encoded data removed]",
      "text/plain": [
       "<Figure size 1080x576 with 1 Axes>"
      ]
     },
     "metadata": {
      "needs_background": "light"
     },
     "output_type": "display_data"
    }
   ],
   "source": [
    "# plot using Matplotlib\n",
    "fig1 = plt.figure(figsize=(15,8))\n",
    "\n",
    "#df_incidence[ df_incidence['pruid'] == 10  ]['ratetotal_last7']\n",
    "plt.suptitle(\"Incidence rate\")\n",
    "plt.title(\"cases per 100,000 over 7 days\")\n",
    "df_incidence[ df_incidence['pruid'] == 10 ]['ratetotal_last7'].plot( label=\"Newfoundland and Labrador\"  )\n",
    "df_incidence[ df_incidence['pruid'] == 1  ]['ratetotal_last7'].plot( label=\"Canada\")\n",
    "df_incidence[ df_incidence['pruid'] == 12 ]['ratetotal_last7'].plot( label=\"Nova Scotia\")\n",
    "df_incidence[ df_incidence['pruid'] == 35 ]['ratetotal_last7'].plot( label=\"Ontario\")\n",
    "#df_incidence[ df_incidence['pruid'] == 24 ]['ratetotal_last7'].plot( label=\"Quebec\")\n",
    "\n",
    "# plt.xlim(datetime.datetime.today() - datetime.timedelta(weeks=70), datetime.datetime.today() )\n",
    "\n",
    "plt.legend()\n",
    "plt.grid(which=\"major\", axis='both')\n",
    "plt.show()"
   ]
  },
  {
   "cell_type": "code",
   "execution_count": null,
   "metadata": {},
   "outputs": [],
   "source": []
  }
 ],
 "metadata": {
  "colab": {
   "authorship_tag": "ABX9TyO8tpTg8/cPzxzEOsBXAE9W",
   "collapsed_sections": [],
   "name": "COVID19-Canada.ipynb",
   "provenance": []
  },
  "kernelspec": {
   "display_name": "Python (Jupyter Lab)",
   "language": "python",
   "name": "jupyterlab"
  },
  "language_info": {
   "codemirror_mode": {
    "name": "ipython",
    "version": 3
   },
   "file_extension": ".py",
   "mimetype": "text/x-python",
   "name": "python",
   "nbconvert_exporter": "python",
   "pygments_lexer": "ipython3",
   "version": "3.9.2"
  }
 },
 "nbformat": 4,
 "nbformat_minor": 4
}
